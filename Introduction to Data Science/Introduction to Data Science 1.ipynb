{
 "cells": [
  {
   "cell_type": "markdown",
   "metadata": {},
   "source": [
    "# Introduction to Pandas\n",
    "\n",
    "Pandas objects can be thought of as excel tables in which the rows and columns are identified with labels rather than numbers and alphabets and individual (or group of) cells can be referenced by labels and queries.\n",
    "\n",
    "To use pandas objects first import pandas into your notebook:"
   ]
  },
  {
   "cell_type": "code",
   "execution_count": 44,
   "metadata": {},
   "outputs": [],
   "source": [
    "import pandas as pd"
   ]
  },
  {
   "cell_type": "markdown",
   "metadata": {},
   "source": [
    "Now lets get some data into a pandas table from the internet. The website  \"http://raagmala.ca/popular-raags-in-indian-classical-music\" has data tables about Indian classical music. Look at the table on the website. The table has a header identifying the column names. Let's get the data from the table into a pandas object, called \"DataFrame\".\n",
    "\n",
    "![Raagmala](http://raagmala.ca/wp-content/themes/raagmala/images/raagmala-logo.png)\n",
    "![Read Data](https://pandas.pydata.org/pandas-docs/stable/_images/02_io_readwrite1.svg)"
   ]
  },
  {
   "cell_type": "code",
   "execution_count": 45,
   "metadata": {},
   "outputs": [],
   "source": [
    "url = \"http://raagmala.ca/popular-raags-in-indian-classical-music\"\n",
    "df = pd.read_html(url)"
   ]
  },
  {
   "cell_type": "markdown",
   "metadata": {},
   "source": [
    "That's all there is to it!\n",
    "Pandas imported all the tables it could find into a list of DataFrames. \n",
    "You can confirm that df is of type list and df\\[0\\], the first table found is of type DataFrame.\n",
    "\n",
    "![DataFrame](https://pandas.pydata.org/pandas-docs/stable/_images/01_table_dataframe1.svg)"
   ]
  },
  {
   "cell_type": "code",
   "execution_count": 46,
   "metadata": {
    "tags": []
   },
   "outputs": [
    {
     "output_type": "stream",
     "name": "stdout",
     "text": "type of df is  <class 'list'> and \ntype of df[0] is  <class 'pandas.core.frame.DataFrame'>\n"
    }
   ],
   "source": [
    "print(\"type of df is \",type(df), \"and \\ntype of df[0] is \", type(df[0]))"
   ]
  },
  {
   "cell_type": "markdown",
   "metadata": {},
   "source": [
    "For easy referencing, lets raagas to df\\[0\\] and see what the first 5 rows contain:"
   ]
  },
  {
   "cell_type": "code",
   "execution_count": 47,
   "metadata": {},
   "outputs": [
    {
     "output_type": "execute_result",
     "data": {
      "text/plain": "              0        1                                                  2  \\\n0     Raag Name    Thaat                           Aaroh/Avroh/Vadi/Samvadi   \n1  Ahir Bhairav  Bhairav  S r G m P D n S’S’ n D P m G r S Vaadi: m, Sam...   \n2      Bageshri     Kafi  S g m D n S’S’ n D m m P D m g r S Vaadi: m, S...   \n3        Basant    Purvi  S m G M’ d N S’S’ N d P M’ G M’ G r S Vaadi: S...   \n4       Bhairav  Bhairav  S r G m P d N S’S’ N d P m G r S Vaadi: d Samv...   \n\n                     3  \n0  Time of Performance  \n1            6am – 9am  \n2         12 am – 3 am  \n3          3 am – 6 am  \n4          6 am – 9 am  ",
      "text/html": "<div>\n<style scoped>\n    .dataframe tbody tr th:only-of-type {\n        vertical-align: middle;\n    }\n\n    .dataframe tbody tr th {\n        vertical-align: top;\n    }\n\n    .dataframe thead th {\n        text-align: right;\n    }\n</style>\n<table border=\"1\" class=\"dataframe\">\n  <thead>\n    <tr style=\"text-align: right;\">\n      <th></th>\n      <th>0</th>\n      <th>1</th>\n      <th>2</th>\n      <th>3</th>\n    </tr>\n  </thead>\n  <tbody>\n    <tr>\n      <th>0</th>\n      <td>Raag Name</td>\n      <td>Thaat</td>\n      <td>Aaroh/Avroh/Vadi/Samvadi</td>\n      <td>Time of Performance</td>\n    </tr>\n    <tr>\n      <th>1</th>\n      <td>Ahir Bhairav</td>\n      <td>Bhairav</td>\n      <td>S r G m P D n S’S’ n D P m G r S Vaadi: m, Sam...</td>\n      <td>6am – 9am</td>\n    </tr>\n    <tr>\n      <th>2</th>\n      <td>Bageshri</td>\n      <td>Kafi</td>\n      <td>S g m D n S’S’ n D m m P D m g r S Vaadi: m, S...</td>\n      <td>12 am – 3 am</td>\n    </tr>\n    <tr>\n      <th>3</th>\n      <td>Basant</td>\n      <td>Purvi</td>\n      <td>S m G M’ d N S’S’ N d P M’ G M’ G r S Vaadi: S...</td>\n      <td>3 am – 6 am</td>\n    </tr>\n    <tr>\n      <th>4</th>\n      <td>Bhairav</td>\n      <td>Bhairav</td>\n      <td>S r G m P d N S’S’ N d P m G r S Vaadi: d Samv...</td>\n      <td>6 am – 9 am</td>\n    </tr>\n  </tbody>\n</table>\n</div>"
     },
     "metadata": {},
     "execution_count": 47
    }
   ],
   "source": [
    "raagas = df[0]\n",
    "raagas.head()"
   ]
  },
  {
   "cell_type": "markdown",
   "metadata": {},
   "source": [
    "Our importer missed the column header. So lets start over.\n",
    "\n",
    "Let's specify that the row \"0\" has the column headings and repeat the rest of the steps:"
   ]
  },
  {
   "cell_type": "code",
   "execution_count": 48,
   "metadata": {},
   "outputs": [
    {
     "output_type": "execute_result",
     "data": {
      "text/plain": "      Raag Name     Thaat                           Aaroh/Avroh/Vadi/Samvadi  \\\n0  Ahir Bhairav   Bhairav  S r G m P D n S’S’ n D P m G r S Vaadi: m, Sam...   \n1      Bageshri      Kafi  S g m D n S’S’ n D m m P D m g r S Vaadi: m, S...   \n2        Basant     Purvi  S m G M’ d N S’S’ N d P M’ G M’ G r S Vaadi: S...   \n3       Bhairav   Bhairav  S r G m P d N S’S’ N d P m G r S Vaadi: d Samv...   \n4      Bhairavi  Bhariavi  S r g m P d n S’S’ n d P m g r S Vaadi: m Samv...   \n\n  Time of Performance  \n0           6am – 9am  \n1        12 am – 3 am  \n2         3 am – 6 am  \n3         6 am – 9 am  \n4         6 am – 9 am  ",
      "text/html": "<div>\n<style scoped>\n    .dataframe tbody tr th:only-of-type {\n        vertical-align: middle;\n    }\n\n    .dataframe tbody tr th {\n        vertical-align: top;\n    }\n\n    .dataframe thead th {\n        text-align: right;\n    }\n</style>\n<table border=\"1\" class=\"dataframe\">\n  <thead>\n    <tr style=\"text-align: right;\">\n      <th></th>\n      <th>Raag Name</th>\n      <th>Thaat</th>\n      <th>Aaroh/Avroh/Vadi/Samvadi</th>\n      <th>Time of Performance</th>\n    </tr>\n  </thead>\n  <tbody>\n    <tr>\n      <th>0</th>\n      <td>Ahir Bhairav</td>\n      <td>Bhairav</td>\n      <td>S r G m P D n S’S’ n D P m G r S Vaadi: m, Sam...</td>\n      <td>6am – 9am</td>\n    </tr>\n    <tr>\n      <th>1</th>\n      <td>Bageshri</td>\n      <td>Kafi</td>\n      <td>S g m D n S’S’ n D m m P D m g r S Vaadi: m, S...</td>\n      <td>12 am – 3 am</td>\n    </tr>\n    <tr>\n      <th>2</th>\n      <td>Basant</td>\n      <td>Purvi</td>\n      <td>S m G M’ d N S’S’ N d P M’ G M’ G r S Vaadi: S...</td>\n      <td>3 am – 6 am</td>\n    </tr>\n    <tr>\n      <th>3</th>\n      <td>Bhairav</td>\n      <td>Bhairav</td>\n      <td>S r G m P d N S’S’ N d P m G r S Vaadi: d Samv...</td>\n      <td>6 am – 9 am</td>\n    </tr>\n    <tr>\n      <th>4</th>\n      <td>Bhairavi</td>\n      <td>Bhariavi</td>\n      <td>S r g m P d n S’S’ n d P m g r S Vaadi: m Samv...</td>\n      <td>6 am – 9 am</td>\n    </tr>\n  </tbody>\n</table>\n</div>"
     },
     "metadata": {},
     "execution_count": 48
    }
   ],
   "source": [
    "df = pd.read_html(url, header=0)\n",
    "raagas = df[0]\n",
    "raagas.head()"
   ]
  },
  {
   "cell_type": "markdown",
   "metadata": {},
   "source": [
    "Can you see the difference?\n",
    "\n",
    "Now we can reference each data \"Series\", or column, with its name. For example ragas\\['Raag Name'\\]\n",
    "\n",
    "![Series](https://pandas.pydata.org/pandas-docs/stable/_images/01_table_series.svg)"
   ]
  },
  {
   "cell_type": "code",
   "execution_count": 49,
   "metadata": {},
   "outputs": [
    {
     "output_type": "execute_result",
     "data": {
      "text/plain": "0         Ahir Bhairav\n1             Bageshri\n2               Basant\n3              Bhairav\n4             Bhairavi\n5           Bhimpalasi\n6             Bhoopali\n7                Bihag\n8      Bilaskhani Todi\n9              Bilawal\n10      Darbari Kanada\n11                Desh\n12               Durga\n13                Kafi\n14              Kalyan\n15               Kedar\n16             Khamaaj\n17               Lalit\n18            Malkauns\n19               Marwa\n20    Miyan ki Malhaar\n21       Miyan ki Todi\n22              Pahadi\n23              Puriya\n24      Shuddha Sarang\n25            Shankara\n26         Shivranjani\n27         Tilak Kamod\n28              Vibhas\n29               Yaman\nName: Raag Name, dtype: object"
     },
     "metadata": {},
     "execution_count": 49
    }
   ],
   "source": [
    "raagas['Raag Name']"
   ]
  },
  {
   "cell_type": "markdown",
   "metadata": {},
   "source": [
    "Which are the unique Thaat's are there in the database?"
   ]
  },
  {
   "cell_type": "code",
   "execution_count": 50,
   "metadata": {},
   "outputs": [
    {
     "output_type": "execute_result",
     "data": {
      "text/plain": "array(['Bhairav', 'Kafi', 'Purvi', 'Bhariavi', 'Kalyan', 'Bilawal',\n       'Bhairavi', 'Asavari', 'Khamaaj', 'Marwa', 'Todi', 'Khamaj'],\n      dtype=object)"
     },
     "metadata": {},
     "execution_count": 50
    }
   ],
   "source": [
    "raagas['Thaat'].unique()"
   ]
  },
  {
   "cell_type": "markdown",
   "metadata": {},
   "source": [
    "Let's clean our data next.\n",
    "\n",
    "First replace the seperator '-',' – ' so that we can  split the time of performance and create two new columns \"Perfom From\" and \"Perform Upto\"\n",
    "\n",
    "![Add column](https://pandas.pydata.org/pandas-docs/stable/_images/05_newcolumn_1.svg)"
   ]
  },
  {
   "cell_type": "code",
   "execution_count": 51,
   "metadata": {},
   "outputs": [
    {
     "output_type": "execute_result",
     "data": {
      "text/plain": "           Raag Name     Thaat  \\\n0       Ahir Bhairav   Bhairav   \n1           Bageshri      Kafi   \n2             Basant     Purvi   \n3            Bhairav   Bhairav   \n4           Bhairavi  Bhariavi   \n5         Bhimpalasi      Kafi   \n6           Bhoopali    Kalyan   \n7              Bihag   Bilawal   \n8    Bilaskhani Todi  Bhairavi   \n9            Bilawal   Bilawal   \n10    Darbari Kanada   Asavari   \n11              Desh   Khamaaj   \n12             Durga   Bilawal   \n13              Kafi      Kafi   \n14            Kalyan    Kalyan   \n15             Kedar    Kalyan   \n16           Khamaaj   Khamaaj   \n17             Lalit     Purvi   \n18          Malkauns  Bhairavi   \n19             Marwa     Marwa   \n20  Miyan ki Malhaar      Kafi   \n21     Miyan ki Todi      Todi   \n22            Pahadi   Bilawal   \n23            Puriya     Marwa   \n24    Shuddha Sarang      Kafi   \n25          Shankara   Bilawal   \n26       Shivranjani      Kafi   \n27       Tilak Kamod    Khamaj   \n28            Vibhas   Bhairav   \n29             Yaman    Kalyan   \n\n                             Aaroh/Avroh/Vadi/Samvadi Time of Performance  \\\n0   S r G m P D n S’S’ n D P m G r S Vaadi: m, Sam...           6am – 9am   \n1   S g m D n S’S’ n D m m P D m g r S Vaadi: m, S...        12 am – 3 am   \n2   S m G M’ d N S’S’ N d P M’ G M’ G r S Vaadi: S...         3 am – 6 am   \n3   S r G m P d N S’S’ N d P m G r S Vaadi: d Samv...         6 am – 9 am   \n4   S r g m P d n S’S’ n d P m g r S Vaadi: m Samv...         6 am – 9 am   \n5           Sa Ga Ma Pa Ni Sa” Vaadi: Ma Samvaadi: Sa         4 pm – 6 pm   \n6       S R G P D S’S’ D P G R S Vaadi: G Samvaadi: D         6 pm – 9 pm   \n7   ‘N S G m P N S’S’ N D P M’ G m G R S Vaadi: G ...        9 pm – 12 am   \n8   S r G P d S’S’ r’ n d m g r S Vaadi: d Samvaad...        9 am – 12 pm   \n9   S R G P D N S’S’ N D P DG m RGPM G RS Vaadi: D...         6 am – 9 am   \n10  S R g m P d n S’S’ d n P m P g m R S Vaadi: R ...        9 pm – 12 am   \n11  Sa R m P N S’S’ n D P m D R S Vaadi: P Samvadi: R        9 pm – 12 am   \n12    S R m P D S’S’ D P m R ‘D S Vaadi:m Samvaadi: S        9 pm – 12 am   \n13  S R g m P D n S’S’ n D P m g R S Vaadi: P Samv...         6 pm – 9 pm   \n14  S R G P D S’S, N DP, PM’G R S Vaadi: G Samvadi: D         6 pm – 9 pm   \n15  S m, m GP, M’PDN S’S’ NDP, M’PD, DPM’Pm, PmRS ...        9 pm – 12 am   \n16  S G m P D n S’S’ n D P m G R S Vaadi: G Samvad...         6 pm – 9 pm   \n17  ‘N r G m M’ m G M’ d N S’S’ Nr’ N d M’m G M’G ...         3 am – 6 am   \n18       S g m d n S’S’ n d m g S Vaadi: m Samvadi: S        12 am – 3 am   \n19  ‘N r G M’ D N r’ S’S’ N r’ N D M G r S Vaadi: ...         3 pm – 6 pm   \n20  ‘NS mR P mP nDN S’S’ NS’ Dn mP g mR S Vaadi: R...             Monsoon   \n21  S r g M’ d N S’S’ N d P M g r S Vaadi: d Samva...        9 am – 12 pm   \n22  ‘P ‘D S R G P D S’S’ N D P m G R S ‘D ‘P D’ S ...         6 pm – 9 pm   \n23  ‘N r G M D N r’ S’r’ N D M G M G r S Vaadi: G ...         6 pm – 9 pm   \n24  ‘N S R M’ P N S’S’ N D P M P m R ‘N S Vaadi: R...        12 pm – 3 pm   \n25   S G P N D S’S’ N P, G P, G S Vaadi: G Samvadi: N        9 pm – 12 am   \n26       S R g P D S’S’ D P g R S Vaadi: P Samvadi: S        12 am – 3 am   \n27  S R G S, R m P D m P, S’S’ P D m G, S R G, S N...         6 pm – 9 pm   \n28                           S r G P d S’S’ d P G r S        6 am –  9 am   \n29  ‘N R G M’ D N S’S’ N D P M’ G R S Vaadi: G Sam...         6 pm – 9 pm   \n\n   Perform From Perform Upto  \n0          6am           9am  \n1        12 am          3 am  \n2         3 am          6 am  \n3         6 am          9 am  \n4         6 am          9 am  \n5         4 pm          6 pm  \n6         6 pm          9 pm  \n7         9 pm         12 am  \n8         9 am         12 pm  \n9         6 am          9 am  \n10        9 pm         12 am  \n11        9 pm         12 am  \n12        9 pm         12 am  \n13        6 pm          9 pm  \n14        6 pm          9 pm  \n15        9 pm         12 am  \n16        6 pm          9 pm  \n17        3 am          6 am  \n18       12 am          3 am  \n19        3 pm          6 pm  \n20      Monsoon          NaN  \n21        9 am         12 pm  \n22        6 pm          9 pm  \n23        6 pm          9 pm  \n24       12 pm          3 pm  \n25        9 pm         12 am  \n26       12 am          3 am  \n27        6 pm          9 pm  \n28        6 am          9 am  \n29        6 pm          9 pm  ",
      "text/html": "<div>\n<style scoped>\n    .dataframe tbody tr th:only-of-type {\n        vertical-align: middle;\n    }\n\n    .dataframe tbody tr th {\n        vertical-align: top;\n    }\n\n    .dataframe thead th {\n        text-align: right;\n    }\n</style>\n<table border=\"1\" class=\"dataframe\">\n  <thead>\n    <tr style=\"text-align: right;\">\n      <th></th>\n      <th>Raag Name</th>\n      <th>Thaat</th>\n      <th>Aaroh/Avroh/Vadi/Samvadi</th>\n      <th>Time of Performance</th>\n      <th>Perform From</th>\n      <th>Perform Upto</th>\n    </tr>\n  </thead>\n  <tbody>\n    <tr>\n      <th>0</th>\n      <td>Ahir Bhairav</td>\n      <td>Bhairav</td>\n      <td>S r G m P D n S’S’ n D P m G r S Vaadi: m, Sam...</td>\n      <td>6am – 9am</td>\n      <td>6am</td>\n      <td>9am</td>\n    </tr>\n    <tr>\n      <th>1</th>\n      <td>Bageshri</td>\n      <td>Kafi</td>\n      <td>S g m D n S’S’ n D m m P D m g r S Vaadi: m, S...</td>\n      <td>12 am – 3 am</td>\n      <td>12 am</td>\n      <td>3 am</td>\n    </tr>\n    <tr>\n      <th>2</th>\n      <td>Basant</td>\n      <td>Purvi</td>\n      <td>S m G M’ d N S’S’ N d P M’ G M’ G r S Vaadi: S...</td>\n      <td>3 am – 6 am</td>\n      <td>3 am</td>\n      <td>6 am</td>\n    </tr>\n    <tr>\n      <th>3</th>\n      <td>Bhairav</td>\n      <td>Bhairav</td>\n      <td>S r G m P d N S’S’ N d P m G r S Vaadi: d Samv...</td>\n      <td>6 am – 9 am</td>\n      <td>6 am</td>\n      <td>9 am</td>\n    </tr>\n    <tr>\n      <th>4</th>\n      <td>Bhairavi</td>\n      <td>Bhariavi</td>\n      <td>S r g m P d n S’S’ n d P m g r S Vaadi: m Samv...</td>\n      <td>6 am – 9 am</td>\n      <td>6 am</td>\n      <td>9 am</td>\n    </tr>\n    <tr>\n      <th>5</th>\n      <td>Bhimpalasi</td>\n      <td>Kafi</td>\n      <td>Sa Ga Ma Pa Ni Sa” Vaadi: Ma Samvaadi: Sa</td>\n      <td>4 pm – 6 pm</td>\n      <td>4 pm</td>\n      <td>6 pm</td>\n    </tr>\n    <tr>\n      <th>6</th>\n      <td>Bhoopali</td>\n      <td>Kalyan</td>\n      <td>S R G P D S’S’ D P G R S Vaadi: G Samvaadi: D</td>\n      <td>6 pm – 9 pm</td>\n      <td>6 pm</td>\n      <td>9 pm</td>\n    </tr>\n    <tr>\n      <th>7</th>\n      <td>Bihag</td>\n      <td>Bilawal</td>\n      <td>‘N S G m P N S’S’ N D P M’ G m G R S Vaadi: G ...</td>\n      <td>9 pm – 12 am</td>\n      <td>9 pm</td>\n      <td>12 am</td>\n    </tr>\n    <tr>\n      <th>8</th>\n      <td>Bilaskhani Todi</td>\n      <td>Bhairavi</td>\n      <td>S r G P d S’S’ r’ n d m g r S Vaadi: d Samvaad...</td>\n      <td>9 am – 12 pm</td>\n      <td>9 am</td>\n      <td>12 pm</td>\n    </tr>\n    <tr>\n      <th>9</th>\n      <td>Bilawal</td>\n      <td>Bilawal</td>\n      <td>S R G P D N S’S’ N D P DG m RGPM G RS Vaadi: D...</td>\n      <td>6 am – 9 am</td>\n      <td>6 am</td>\n      <td>9 am</td>\n    </tr>\n    <tr>\n      <th>10</th>\n      <td>Darbari Kanada</td>\n      <td>Asavari</td>\n      <td>S R g m P d n S’S’ d n P m P g m R S Vaadi: R ...</td>\n      <td>9 pm – 12 am</td>\n      <td>9 pm</td>\n      <td>12 am</td>\n    </tr>\n    <tr>\n      <th>11</th>\n      <td>Desh</td>\n      <td>Khamaaj</td>\n      <td>Sa R m P N S’S’ n D P m D R S Vaadi: P Samvadi: R</td>\n      <td>9 pm – 12 am</td>\n      <td>9 pm</td>\n      <td>12 am</td>\n    </tr>\n    <tr>\n      <th>12</th>\n      <td>Durga</td>\n      <td>Bilawal</td>\n      <td>S R m P D S’S’ D P m R ‘D S Vaadi:m Samvaadi: S</td>\n      <td>9 pm – 12 am</td>\n      <td>9 pm</td>\n      <td>12 am</td>\n    </tr>\n    <tr>\n      <th>13</th>\n      <td>Kafi</td>\n      <td>Kafi</td>\n      <td>S R g m P D n S’S’ n D P m g R S Vaadi: P Samv...</td>\n      <td>6 pm – 9 pm</td>\n      <td>6 pm</td>\n      <td>9 pm</td>\n    </tr>\n    <tr>\n      <th>14</th>\n      <td>Kalyan</td>\n      <td>Kalyan</td>\n      <td>S R G P D S’S, N DP, PM’G R S Vaadi: G Samvadi: D</td>\n      <td>6 pm – 9 pm</td>\n      <td>6 pm</td>\n      <td>9 pm</td>\n    </tr>\n    <tr>\n      <th>15</th>\n      <td>Kedar</td>\n      <td>Kalyan</td>\n      <td>S m, m GP, M’PDN S’S’ NDP, M’PD, DPM’Pm, PmRS ...</td>\n      <td>9 pm – 12 am</td>\n      <td>9 pm</td>\n      <td>12 am</td>\n    </tr>\n    <tr>\n      <th>16</th>\n      <td>Khamaaj</td>\n      <td>Khamaaj</td>\n      <td>S G m P D n S’S’ n D P m G R S Vaadi: G Samvad...</td>\n      <td>6 pm – 9 pm</td>\n      <td>6 pm</td>\n      <td>9 pm</td>\n    </tr>\n    <tr>\n      <th>17</th>\n      <td>Lalit</td>\n      <td>Purvi</td>\n      <td>‘N r G m M’ m G M’ d N S’S’ Nr’ N d M’m G M’G ...</td>\n      <td>3 am – 6 am</td>\n      <td>3 am</td>\n      <td>6 am</td>\n    </tr>\n    <tr>\n      <th>18</th>\n      <td>Malkauns</td>\n      <td>Bhairavi</td>\n      <td>S g m d n S’S’ n d m g S Vaadi: m Samvadi: S</td>\n      <td>12 am – 3 am</td>\n      <td>12 am</td>\n      <td>3 am</td>\n    </tr>\n    <tr>\n      <th>19</th>\n      <td>Marwa</td>\n      <td>Marwa</td>\n      <td>‘N r G M’ D N r’ S’S’ N r’ N D M G r S Vaadi: ...</td>\n      <td>3 pm – 6 pm</td>\n      <td>3 pm</td>\n      <td>6 pm</td>\n    </tr>\n    <tr>\n      <th>20</th>\n      <td>Miyan ki Malhaar</td>\n      <td>Kafi</td>\n      <td>‘NS mR P mP nDN S’S’ NS’ Dn mP g mR S Vaadi: R...</td>\n      <td>Monsoon</td>\n      <td>Monsoon</td>\n      <td>NaN</td>\n    </tr>\n    <tr>\n      <th>21</th>\n      <td>Miyan ki Todi</td>\n      <td>Todi</td>\n      <td>S r g M’ d N S’S’ N d P M g r S Vaadi: d Samva...</td>\n      <td>9 am – 12 pm</td>\n      <td>9 am</td>\n      <td>12 pm</td>\n    </tr>\n    <tr>\n      <th>22</th>\n      <td>Pahadi</td>\n      <td>Bilawal</td>\n      <td>‘P ‘D S R G P D S’S’ N D P m G R S ‘D ‘P D’ S ...</td>\n      <td>6 pm – 9 pm</td>\n      <td>6 pm</td>\n      <td>9 pm</td>\n    </tr>\n    <tr>\n      <th>23</th>\n      <td>Puriya</td>\n      <td>Marwa</td>\n      <td>‘N r G M D N r’ S’r’ N D M G M G r S Vaadi: G ...</td>\n      <td>6 pm – 9 pm</td>\n      <td>6 pm</td>\n      <td>9 pm</td>\n    </tr>\n    <tr>\n      <th>24</th>\n      <td>Shuddha Sarang</td>\n      <td>Kafi</td>\n      <td>‘N S R M’ P N S’S’ N D P M P m R ‘N S Vaadi: R...</td>\n      <td>12 pm – 3 pm</td>\n      <td>12 pm</td>\n      <td>3 pm</td>\n    </tr>\n    <tr>\n      <th>25</th>\n      <td>Shankara</td>\n      <td>Bilawal</td>\n      <td>S G P N D S’S’ N P, G P, G S Vaadi: G Samvadi: N</td>\n      <td>9 pm – 12 am</td>\n      <td>9 pm</td>\n      <td>12 am</td>\n    </tr>\n    <tr>\n      <th>26</th>\n      <td>Shivranjani</td>\n      <td>Kafi</td>\n      <td>S R g P D S’S’ D P g R S Vaadi: P Samvadi: S</td>\n      <td>12 am – 3 am</td>\n      <td>12 am</td>\n      <td>3 am</td>\n    </tr>\n    <tr>\n      <th>27</th>\n      <td>Tilak Kamod</td>\n      <td>Khamaj</td>\n      <td>S R G S, R m P D m P, S’S’ P D m G, S R G, S N...</td>\n      <td>6 pm – 9 pm</td>\n      <td>6 pm</td>\n      <td>9 pm</td>\n    </tr>\n    <tr>\n      <th>28</th>\n      <td>Vibhas</td>\n      <td>Bhairav</td>\n      <td>S r G P d S’S’ d P G r S</td>\n      <td>6 am –  9 am</td>\n      <td>6 am</td>\n      <td>9 am</td>\n    </tr>\n    <tr>\n      <th>29</th>\n      <td>Yaman</td>\n      <td>Kalyan</td>\n      <td>‘N R G M’ D N S’S’ N D P M’ G R S Vaadi: G Sam...</td>\n      <td>6 pm – 9 pm</td>\n      <td>6 pm</td>\n      <td>9 pm</td>\n    </tr>\n  </tbody>\n</table>\n</div>"
     },
     "metadata": {},
     "execution_count": 51
    }
   ],
   "source": [
    "raagas['Time of Performance'] = raagas['Time of Performance'].str.replace('-',' – ' )\n",
    "perform_from = raagas['Time of Performance'].str.split(\"–\").str.get(0)\n",
    "perform_upto = raagas['Time of Performance'].str.split(\"–\").str.get(1)\n",
    "raagas['Perform From'] = perform_from\n",
    "raagas['Perform Upto'] = perform_upto\n",
    "raagas"
   ]
  },
  {
   "cell_type": "markdown",
   "metadata": {},
   "source": [
    "We can now get rid of the \"Time of Performance\" Series.\n",
    "\n",
    "axis=1 tells Pandas we want to drop a colum, not a row. inplace=True tells pandas to make the change permanant."
   ]
  },
  {
   "cell_type": "code",
   "execution_count": 52,
   "metadata": {},
   "outputs": [
    {
     "output_type": "execute_result",
     "data": {
      "text/plain": "           Raag Name     Thaat  \\\n0       Ahir Bhairav   Bhairav   \n1           Bageshri      Kafi   \n2             Basant     Purvi   \n3            Bhairav   Bhairav   \n4           Bhairavi  Bhariavi   \n5         Bhimpalasi      Kafi   \n6           Bhoopali    Kalyan   \n7              Bihag   Bilawal   \n8    Bilaskhani Todi  Bhairavi   \n9            Bilawal   Bilawal   \n10    Darbari Kanada   Asavari   \n11              Desh   Khamaaj   \n12             Durga   Bilawal   \n13              Kafi      Kafi   \n14            Kalyan    Kalyan   \n15             Kedar    Kalyan   \n16           Khamaaj   Khamaaj   \n17             Lalit     Purvi   \n18          Malkauns  Bhairavi   \n19             Marwa     Marwa   \n20  Miyan ki Malhaar      Kafi   \n21     Miyan ki Todi      Todi   \n22            Pahadi   Bilawal   \n23            Puriya     Marwa   \n24    Shuddha Sarang      Kafi   \n25          Shankara   Bilawal   \n26       Shivranjani      Kafi   \n27       Tilak Kamod    Khamaj   \n28            Vibhas   Bhairav   \n29             Yaman    Kalyan   \n\n                             Aaroh/Avroh/Vadi/Samvadi Perform From  \\\n0   S r G m P D n S’S’ n D P m G r S Vaadi: m, Sam...         6am    \n1   S g m D n S’S’ n D m m P D m g r S Vaadi: m, S...       12 am    \n2   S m G M’ d N S’S’ N d P M’ G M’ G r S Vaadi: S...        3 am    \n3   S r G m P d N S’S’ N d P m G r S Vaadi: d Samv...        6 am    \n4   S r g m P d n S’S’ n d P m g r S Vaadi: m Samv...        6 am    \n5           Sa Ga Ma Pa Ni Sa” Vaadi: Ma Samvaadi: Sa        4 pm    \n6       S R G P D S’S’ D P G R S Vaadi: G Samvaadi: D        6 pm    \n7   ‘N S G m P N S’S’ N D P M’ G m G R S Vaadi: G ...        9 pm    \n8   S r G P d S’S’ r’ n d m g r S Vaadi: d Samvaad...        9 am    \n9   S R G P D N S’S’ N D P DG m RGPM G RS Vaadi: D...        6 am    \n10  S R g m P d n S’S’ d n P m P g m R S Vaadi: R ...        9 pm    \n11  Sa R m P N S’S’ n D P m D R S Vaadi: P Samvadi: R        9 pm    \n12    S R m P D S’S’ D P m R ‘D S Vaadi:m Samvaadi: S        9 pm    \n13  S R g m P D n S’S’ n D P m g R S Vaadi: P Samv...        6 pm    \n14  S R G P D S’S, N DP, PM’G R S Vaadi: G Samvadi: D        6 pm    \n15  S m, m GP, M’PDN S’S’ NDP, M’PD, DPM’Pm, PmRS ...        9 pm    \n16  S G m P D n S’S’ n D P m G R S Vaadi: G Samvad...        6 pm    \n17  ‘N r G m M’ m G M’ d N S’S’ Nr’ N d M’m G M’G ...        3 am    \n18       S g m d n S’S’ n d m g S Vaadi: m Samvadi: S       12 am    \n19  ‘N r G M’ D N r’ S’S’ N r’ N D M G r S Vaadi: ...        3 pm    \n20  ‘NS mR P mP nDN S’S’ NS’ Dn mP g mR S Vaadi: R...      Monsoon   \n21  S r g M’ d N S’S’ N d P M g r S Vaadi: d Samva...        9 am    \n22  ‘P ‘D S R G P D S’S’ N D P m G R S ‘D ‘P D’ S ...        6 pm    \n23  ‘N r G M D N r’ S’r’ N D M G M G r S Vaadi: G ...        6 pm    \n24  ‘N S R M’ P N S’S’ N D P M P m R ‘N S Vaadi: R...       12 pm    \n25   S G P N D S’S’ N P, G P, G S Vaadi: G Samvadi: N        9 pm    \n26       S R g P D S’S’ D P g R S Vaadi: P Samvadi: S       12 am    \n27  S R G S, R m P D m P, S’S’ P D m G, S R G, S N...        6 pm    \n28                           S r G P d S’S’ d P G r S        6 am    \n29  ‘N R G M’ D N S’S’ N D P M’ G R S Vaadi: G Sam...        6 pm    \n\n   Perform Upto  \n0           9am  \n1          3 am  \n2          6 am  \n3          9 am  \n4          9 am  \n5          6 pm  \n6          9 pm  \n7         12 am  \n8         12 pm  \n9          9 am  \n10        12 am  \n11        12 am  \n12        12 am  \n13         9 pm  \n14         9 pm  \n15        12 am  \n16         9 pm  \n17         6 am  \n18         3 am  \n19         6 pm  \n20          NaN  \n21        12 pm  \n22         9 pm  \n23         9 pm  \n24         3 pm  \n25        12 am  \n26         3 am  \n27         9 pm  \n28         9 am  \n29         9 pm  ",
      "text/html": "<div>\n<style scoped>\n    .dataframe tbody tr th:only-of-type {\n        vertical-align: middle;\n    }\n\n    .dataframe tbody tr th {\n        vertical-align: top;\n    }\n\n    .dataframe thead th {\n        text-align: right;\n    }\n</style>\n<table border=\"1\" class=\"dataframe\">\n  <thead>\n    <tr style=\"text-align: right;\">\n      <th></th>\n      <th>Raag Name</th>\n      <th>Thaat</th>\n      <th>Aaroh/Avroh/Vadi/Samvadi</th>\n      <th>Perform From</th>\n      <th>Perform Upto</th>\n    </tr>\n  </thead>\n  <tbody>\n    <tr>\n      <th>0</th>\n      <td>Ahir Bhairav</td>\n      <td>Bhairav</td>\n      <td>S r G m P D n S’S’ n D P m G r S Vaadi: m, Sam...</td>\n      <td>6am</td>\n      <td>9am</td>\n    </tr>\n    <tr>\n      <th>1</th>\n      <td>Bageshri</td>\n      <td>Kafi</td>\n      <td>S g m D n S’S’ n D m m P D m g r S Vaadi: m, S...</td>\n      <td>12 am</td>\n      <td>3 am</td>\n    </tr>\n    <tr>\n      <th>2</th>\n      <td>Basant</td>\n      <td>Purvi</td>\n      <td>S m G M’ d N S’S’ N d P M’ G M’ G r S Vaadi: S...</td>\n      <td>3 am</td>\n      <td>6 am</td>\n    </tr>\n    <tr>\n      <th>3</th>\n      <td>Bhairav</td>\n      <td>Bhairav</td>\n      <td>S r G m P d N S’S’ N d P m G r S Vaadi: d Samv...</td>\n      <td>6 am</td>\n      <td>9 am</td>\n    </tr>\n    <tr>\n      <th>4</th>\n      <td>Bhairavi</td>\n      <td>Bhariavi</td>\n      <td>S r g m P d n S’S’ n d P m g r S Vaadi: m Samv...</td>\n      <td>6 am</td>\n      <td>9 am</td>\n    </tr>\n    <tr>\n      <th>5</th>\n      <td>Bhimpalasi</td>\n      <td>Kafi</td>\n      <td>Sa Ga Ma Pa Ni Sa” Vaadi: Ma Samvaadi: Sa</td>\n      <td>4 pm</td>\n      <td>6 pm</td>\n    </tr>\n    <tr>\n      <th>6</th>\n      <td>Bhoopali</td>\n      <td>Kalyan</td>\n      <td>S R G P D S’S’ D P G R S Vaadi: G Samvaadi: D</td>\n      <td>6 pm</td>\n      <td>9 pm</td>\n    </tr>\n    <tr>\n      <th>7</th>\n      <td>Bihag</td>\n      <td>Bilawal</td>\n      <td>‘N S G m P N S’S’ N D P M’ G m G R S Vaadi: G ...</td>\n      <td>9 pm</td>\n      <td>12 am</td>\n    </tr>\n    <tr>\n      <th>8</th>\n      <td>Bilaskhani Todi</td>\n      <td>Bhairavi</td>\n      <td>S r G P d S’S’ r’ n d m g r S Vaadi: d Samvaad...</td>\n      <td>9 am</td>\n      <td>12 pm</td>\n    </tr>\n    <tr>\n      <th>9</th>\n      <td>Bilawal</td>\n      <td>Bilawal</td>\n      <td>S R G P D N S’S’ N D P DG m RGPM G RS Vaadi: D...</td>\n      <td>6 am</td>\n      <td>9 am</td>\n    </tr>\n    <tr>\n      <th>10</th>\n      <td>Darbari Kanada</td>\n      <td>Asavari</td>\n      <td>S R g m P d n S’S’ d n P m P g m R S Vaadi: R ...</td>\n      <td>9 pm</td>\n      <td>12 am</td>\n    </tr>\n    <tr>\n      <th>11</th>\n      <td>Desh</td>\n      <td>Khamaaj</td>\n      <td>Sa R m P N S’S’ n D P m D R S Vaadi: P Samvadi: R</td>\n      <td>9 pm</td>\n      <td>12 am</td>\n    </tr>\n    <tr>\n      <th>12</th>\n      <td>Durga</td>\n      <td>Bilawal</td>\n      <td>S R m P D S’S’ D P m R ‘D S Vaadi:m Samvaadi: S</td>\n      <td>9 pm</td>\n      <td>12 am</td>\n    </tr>\n    <tr>\n      <th>13</th>\n      <td>Kafi</td>\n      <td>Kafi</td>\n      <td>S R g m P D n S’S’ n D P m g R S Vaadi: P Samv...</td>\n      <td>6 pm</td>\n      <td>9 pm</td>\n    </tr>\n    <tr>\n      <th>14</th>\n      <td>Kalyan</td>\n      <td>Kalyan</td>\n      <td>S R G P D S’S, N DP, PM’G R S Vaadi: G Samvadi: D</td>\n      <td>6 pm</td>\n      <td>9 pm</td>\n    </tr>\n    <tr>\n      <th>15</th>\n      <td>Kedar</td>\n      <td>Kalyan</td>\n      <td>S m, m GP, M’PDN S’S’ NDP, M’PD, DPM’Pm, PmRS ...</td>\n      <td>9 pm</td>\n      <td>12 am</td>\n    </tr>\n    <tr>\n      <th>16</th>\n      <td>Khamaaj</td>\n      <td>Khamaaj</td>\n      <td>S G m P D n S’S’ n D P m G R S Vaadi: G Samvad...</td>\n      <td>6 pm</td>\n      <td>9 pm</td>\n    </tr>\n    <tr>\n      <th>17</th>\n      <td>Lalit</td>\n      <td>Purvi</td>\n      <td>‘N r G m M’ m G M’ d N S’S’ Nr’ N d M’m G M’G ...</td>\n      <td>3 am</td>\n      <td>6 am</td>\n    </tr>\n    <tr>\n      <th>18</th>\n      <td>Malkauns</td>\n      <td>Bhairavi</td>\n      <td>S g m d n S’S’ n d m g S Vaadi: m Samvadi: S</td>\n      <td>12 am</td>\n      <td>3 am</td>\n    </tr>\n    <tr>\n      <th>19</th>\n      <td>Marwa</td>\n      <td>Marwa</td>\n      <td>‘N r G M’ D N r’ S’S’ N r’ N D M G r S Vaadi: ...</td>\n      <td>3 pm</td>\n      <td>6 pm</td>\n    </tr>\n    <tr>\n      <th>20</th>\n      <td>Miyan ki Malhaar</td>\n      <td>Kafi</td>\n      <td>‘NS mR P mP nDN S’S’ NS’ Dn mP g mR S Vaadi: R...</td>\n      <td>Monsoon</td>\n      <td>NaN</td>\n    </tr>\n    <tr>\n      <th>21</th>\n      <td>Miyan ki Todi</td>\n      <td>Todi</td>\n      <td>S r g M’ d N S’S’ N d P M g r S Vaadi: d Samva...</td>\n      <td>9 am</td>\n      <td>12 pm</td>\n    </tr>\n    <tr>\n      <th>22</th>\n      <td>Pahadi</td>\n      <td>Bilawal</td>\n      <td>‘P ‘D S R G P D S’S’ N D P m G R S ‘D ‘P D’ S ...</td>\n      <td>6 pm</td>\n      <td>9 pm</td>\n    </tr>\n    <tr>\n      <th>23</th>\n      <td>Puriya</td>\n      <td>Marwa</td>\n      <td>‘N r G M D N r’ S’r’ N D M G M G r S Vaadi: G ...</td>\n      <td>6 pm</td>\n      <td>9 pm</td>\n    </tr>\n    <tr>\n      <th>24</th>\n      <td>Shuddha Sarang</td>\n      <td>Kafi</td>\n      <td>‘N S R M’ P N S’S’ N D P M P m R ‘N S Vaadi: R...</td>\n      <td>12 pm</td>\n      <td>3 pm</td>\n    </tr>\n    <tr>\n      <th>25</th>\n      <td>Shankara</td>\n      <td>Bilawal</td>\n      <td>S G P N D S’S’ N P, G P, G S Vaadi: G Samvadi: N</td>\n      <td>9 pm</td>\n      <td>12 am</td>\n    </tr>\n    <tr>\n      <th>26</th>\n      <td>Shivranjani</td>\n      <td>Kafi</td>\n      <td>S R g P D S’S’ D P g R S Vaadi: P Samvadi: S</td>\n      <td>12 am</td>\n      <td>3 am</td>\n    </tr>\n    <tr>\n      <th>27</th>\n      <td>Tilak Kamod</td>\n      <td>Khamaj</td>\n      <td>S R G S, R m P D m P, S’S’ P D m G, S R G, S N...</td>\n      <td>6 pm</td>\n      <td>9 pm</td>\n    </tr>\n    <tr>\n      <th>28</th>\n      <td>Vibhas</td>\n      <td>Bhairav</td>\n      <td>S r G P d S’S’ d P G r S</td>\n      <td>6 am</td>\n      <td>9 am</td>\n    </tr>\n    <tr>\n      <th>29</th>\n      <td>Yaman</td>\n      <td>Kalyan</td>\n      <td>‘N R G M’ D N S’S’ N D P M’ G R S Vaadi: G Sam...</td>\n      <td>6 pm</td>\n      <td>9 pm</td>\n    </tr>\n  </tbody>\n</table>\n</div>"
     },
     "metadata": {},
     "execution_count": 52
    }
   ],
   "source": [
    "raagas.drop(['Time of Performance'], axis=1, inplace=True)\n",
    "raagas"
   ]
  },
  {
   "cell_type": "markdown",
   "metadata": {},
   "source": [
    "Now you can find evening raagas!\n",
    "\n",
    "![Filter](https://pandas.pydata.org/pandas-docs/stable/_images/03_subset_rows.svg)"
   ]
  },
  {
   "cell_type": "code",
   "execution_count": 53,
   "metadata": {},
   "outputs": [
    {
     "output_type": "execute_result",
     "data": {
      "text/plain": "         Raag Name    Thaat  \\\n5       Bhimpalasi     Kafi   \n6         Bhoopali   Kalyan   \n7            Bihag  Bilawal   \n10  Darbari Kanada  Asavari   \n11            Desh  Khamaaj   \n12           Durga  Bilawal   \n13            Kafi     Kafi   \n14          Kalyan   Kalyan   \n15           Kedar   Kalyan   \n16         Khamaaj  Khamaaj   \n19           Marwa    Marwa   \n22          Pahadi  Bilawal   \n23          Puriya    Marwa   \n24  Shuddha Sarang     Kafi   \n25        Shankara  Bilawal   \n27     Tilak Kamod   Khamaj   \n29           Yaman   Kalyan   \n\n                             Aaroh/Avroh/Vadi/Samvadi Perform From  \\\n5           Sa Ga Ma Pa Ni Sa” Vaadi: Ma Samvaadi: Sa        4 pm    \n6       S R G P D S’S’ D P G R S Vaadi: G Samvaadi: D        6 pm    \n7   ‘N S G m P N S’S’ N D P M’ G m G R S Vaadi: G ...        9 pm    \n10  S R g m P d n S’S’ d n P m P g m R S Vaadi: R ...        9 pm    \n11  Sa R m P N S’S’ n D P m D R S Vaadi: P Samvadi: R        9 pm    \n12    S R m P D S’S’ D P m R ‘D S Vaadi:m Samvaadi: S        9 pm    \n13  S R g m P D n S’S’ n D P m g R S Vaadi: P Samv...        6 pm    \n14  S R G P D S’S, N DP, PM’G R S Vaadi: G Samvadi: D        6 pm    \n15  S m, m GP, M’PDN S’S’ NDP, M’PD, DPM’Pm, PmRS ...        9 pm    \n16  S G m P D n S’S’ n D P m G R S Vaadi: G Samvad...        6 pm    \n19  ‘N r G M’ D N r’ S’S’ N r’ N D M G r S Vaadi: ...        3 pm    \n22  ‘P ‘D S R G P D S’S’ N D P m G R S ‘D ‘P D’ S ...        6 pm    \n23  ‘N r G M D N r’ S’r’ N D M G M G r S Vaadi: G ...        6 pm    \n24  ‘N S R M’ P N S’S’ N D P M P m R ‘N S Vaadi: R...       12 pm    \n25   S G P N D S’S’ N P, G P, G S Vaadi: G Samvadi: N        9 pm    \n27  S R G S, R m P D m P, S’S’ P D m G, S R G, S N...        6 pm    \n29  ‘N R G M’ D N S’S’ N D P M’ G R S Vaadi: G Sam...        6 pm    \n\n   Perform Upto  \n5          6 pm  \n6          9 pm  \n7         12 am  \n10        12 am  \n11        12 am  \n12        12 am  \n13         9 pm  \n14         9 pm  \n15        12 am  \n16         9 pm  \n19         6 pm  \n22         9 pm  \n23         9 pm  \n24         3 pm  \n25        12 am  \n27         9 pm  \n29         9 pm  ",
      "text/html": "<div>\n<style scoped>\n    .dataframe tbody tr th:only-of-type {\n        vertical-align: middle;\n    }\n\n    .dataframe tbody tr th {\n        vertical-align: top;\n    }\n\n    .dataframe thead th {\n        text-align: right;\n    }\n</style>\n<table border=\"1\" class=\"dataframe\">\n  <thead>\n    <tr style=\"text-align: right;\">\n      <th></th>\n      <th>Raag Name</th>\n      <th>Thaat</th>\n      <th>Aaroh/Avroh/Vadi/Samvadi</th>\n      <th>Perform From</th>\n      <th>Perform Upto</th>\n    </tr>\n  </thead>\n  <tbody>\n    <tr>\n      <th>5</th>\n      <td>Bhimpalasi</td>\n      <td>Kafi</td>\n      <td>Sa Ga Ma Pa Ni Sa” Vaadi: Ma Samvaadi: Sa</td>\n      <td>4 pm</td>\n      <td>6 pm</td>\n    </tr>\n    <tr>\n      <th>6</th>\n      <td>Bhoopali</td>\n      <td>Kalyan</td>\n      <td>S R G P D S’S’ D P G R S Vaadi: G Samvaadi: D</td>\n      <td>6 pm</td>\n      <td>9 pm</td>\n    </tr>\n    <tr>\n      <th>7</th>\n      <td>Bihag</td>\n      <td>Bilawal</td>\n      <td>‘N S G m P N S’S’ N D P M’ G m G R S Vaadi: G ...</td>\n      <td>9 pm</td>\n      <td>12 am</td>\n    </tr>\n    <tr>\n      <th>10</th>\n      <td>Darbari Kanada</td>\n      <td>Asavari</td>\n      <td>S R g m P d n S’S’ d n P m P g m R S Vaadi: R ...</td>\n      <td>9 pm</td>\n      <td>12 am</td>\n    </tr>\n    <tr>\n      <th>11</th>\n      <td>Desh</td>\n      <td>Khamaaj</td>\n      <td>Sa R m P N S’S’ n D P m D R S Vaadi: P Samvadi: R</td>\n      <td>9 pm</td>\n      <td>12 am</td>\n    </tr>\n    <tr>\n      <th>12</th>\n      <td>Durga</td>\n      <td>Bilawal</td>\n      <td>S R m P D S’S’ D P m R ‘D S Vaadi:m Samvaadi: S</td>\n      <td>9 pm</td>\n      <td>12 am</td>\n    </tr>\n    <tr>\n      <th>13</th>\n      <td>Kafi</td>\n      <td>Kafi</td>\n      <td>S R g m P D n S’S’ n D P m g R S Vaadi: P Samv...</td>\n      <td>6 pm</td>\n      <td>9 pm</td>\n    </tr>\n    <tr>\n      <th>14</th>\n      <td>Kalyan</td>\n      <td>Kalyan</td>\n      <td>S R G P D S’S, N DP, PM’G R S Vaadi: G Samvadi: D</td>\n      <td>6 pm</td>\n      <td>9 pm</td>\n    </tr>\n    <tr>\n      <th>15</th>\n      <td>Kedar</td>\n      <td>Kalyan</td>\n      <td>S m, m GP, M’PDN S’S’ NDP, M’PD, DPM’Pm, PmRS ...</td>\n      <td>9 pm</td>\n      <td>12 am</td>\n    </tr>\n    <tr>\n      <th>16</th>\n      <td>Khamaaj</td>\n      <td>Khamaaj</td>\n      <td>S G m P D n S’S’ n D P m G R S Vaadi: G Samvad...</td>\n      <td>6 pm</td>\n      <td>9 pm</td>\n    </tr>\n    <tr>\n      <th>19</th>\n      <td>Marwa</td>\n      <td>Marwa</td>\n      <td>‘N r G M’ D N r’ S’S’ N r’ N D M G r S Vaadi: ...</td>\n      <td>3 pm</td>\n      <td>6 pm</td>\n    </tr>\n    <tr>\n      <th>22</th>\n      <td>Pahadi</td>\n      <td>Bilawal</td>\n      <td>‘P ‘D S R G P D S’S’ N D P m G R S ‘D ‘P D’ S ...</td>\n      <td>6 pm</td>\n      <td>9 pm</td>\n    </tr>\n    <tr>\n      <th>23</th>\n      <td>Puriya</td>\n      <td>Marwa</td>\n      <td>‘N r G M D N r’ S’r’ N D M G M G r S Vaadi: G ...</td>\n      <td>6 pm</td>\n      <td>9 pm</td>\n    </tr>\n    <tr>\n      <th>24</th>\n      <td>Shuddha Sarang</td>\n      <td>Kafi</td>\n      <td>‘N S R M’ P N S’S’ N D P M P m R ‘N S Vaadi: R...</td>\n      <td>12 pm</td>\n      <td>3 pm</td>\n    </tr>\n    <tr>\n      <th>25</th>\n      <td>Shankara</td>\n      <td>Bilawal</td>\n      <td>S G P N D S’S’ N P, G P, G S Vaadi: G Samvadi: N</td>\n      <td>9 pm</td>\n      <td>12 am</td>\n    </tr>\n    <tr>\n      <th>27</th>\n      <td>Tilak Kamod</td>\n      <td>Khamaj</td>\n      <td>S R G S, R m P D m P, S’S’ P D m G, S R G, S N...</td>\n      <td>6 pm</td>\n      <td>9 pm</td>\n    </tr>\n    <tr>\n      <th>29</th>\n      <td>Yaman</td>\n      <td>Kalyan</td>\n      <td>‘N R G M’ D N S’S’ N D P M’ G R S Vaadi: G Sam...</td>\n      <td>6 pm</td>\n      <td>9 pm</td>\n    </tr>\n  </tbody>\n</table>\n</div>"
     },
     "metadata": {},
     "execution_count": 53
    }
   ],
   "source": [
    "evening_raagas = raagas[raagas['Perform From'].str.contains(\"pm\")]\n",
    "evening_raagas"
   ]
  },
  {
   "cell_type": "markdown",
   "metadata": {},
   "source": [
    "Now we can get a summary of the properties of the DataFrame to understand it in a glance\n",
    "\n",
    "![Summary](https://pandas.pydata.org/pandas-docs/stable/_images/06_aggregate.svg)"
   ]
  },
  {
   "cell_type": "code",
   "execution_count": 54,
   "metadata": {},
   "outputs": [
    {
     "output_type": "execute_result",
     "data": {
      "text/plain": "          Raag Name    Thaat  \\\ncount            17       17   \nunique           17        7   \ntop     Tilak Kamod  Bilawal   \nfreq              1        4   \n\n                                 Aaroh/Avroh/Vadi/Samvadi Perform From  \\\ncount                                                  17           17   \nunique                                                 17            5   \ntop     S R g m P D n S’S’ n D P m g R S Vaadi: P Samv...        6 pm    \nfreq                                                    1            8   \n\n       Perform Upto  \ncount            17  \nunique            4  \ntop            9 pm  \nfreq              8  ",
      "text/html": "<div>\n<style scoped>\n    .dataframe tbody tr th:only-of-type {\n        vertical-align: middle;\n    }\n\n    .dataframe tbody tr th {\n        vertical-align: top;\n    }\n\n    .dataframe thead th {\n        text-align: right;\n    }\n</style>\n<table border=\"1\" class=\"dataframe\">\n  <thead>\n    <tr style=\"text-align: right;\">\n      <th></th>\n      <th>Raag Name</th>\n      <th>Thaat</th>\n      <th>Aaroh/Avroh/Vadi/Samvadi</th>\n      <th>Perform From</th>\n      <th>Perform Upto</th>\n    </tr>\n  </thead>\n  <tbody>\n    <tr>\n      <th>count</th>\n      <td>17</td>\n      <td>17</td>\n      <td>17</td>\n      <td>17</td>\n      <td>17</td>\n    </tr>\n    <tr>\n      <th>unique</th>\n      <td>17</td>\n      <td>7</td>\n      <td>17</td>\n      <td>5</td>\n      <td>4</td>\n    </tr>\n    <tr>\n      <th>top</th>\n      <td>Tilak Kamod</td>\n      <td>Bilawal</td>\n      <td>S R g m P D n S’S’ n D P m g R S Vaadi: P Samv...</td>\n      <td>6 pm</td>\n      <td>9 pm</td>\n    </tr>\n    <tr>\n      <th>freq</th>\n      <td>1</td>\n      <td>4</td>\n      <td>1</td>\n      <td>8</td>\n      <td>8</td>\n    </tr>\n  </tbody>\n</table>\n</div>"
     },
     "metadata": {},
     "execution_count": 54
    }
   ],
   "source": [
    "evening_raagas.describe()"
   ]
  },
  {
   "cell_type": "markdown",
   "metadata": {},
   "source": [
    "And you can find morning raagas!"
   ]
  },
  {
   "cell_type": "code",
   "execution_count": 55,
   "metadata": {},
   "outputs": [
    {
     "output_type": "execute_result",
     "data": {
      "text/plain": "          Raag Name     Thaat  \\\n0      Ahir Bhairav   Bhairav   \n1          Bageshri      Kafi   \n2            Basant     Purvi   \n3           Bhairav   Bhairav   \n4          Bhairavi  Bhariavi   \n8   Bilaskhani Todi  Bhairavi   \n9           Bilawal   Bilawal   \n17            Lalit     Purvi   \n18         Malkauns  Bhairavi   \n21    Miyan ki Todi      Todi   \n26      Shivranjani      Kafi   \n28           Vibhas   Bhairav   \n\n                             Aaroh/Avroh/Vadi/Samvadi Perform From  \\\n0   S r G m P D n S’S’ n D P m G r S Vaadi: m, Sam...         6am    \n1   S g m D n S’S’ n D m m P D m g r S Vaadi: m, S...       12 am    \n2   S m G M’ d N S’S’ N d P M’ G M’ G r S Vaadi: S...        3 am    \n3   S r G m P d N S’S’ N d P m G r S Vaadi: d Samv...        6 am    \n4   S r g m P d n S’S’ n d P m g r S Vaadi: m Samv...        6 am    \n8   S r G P d S’S’ r’ n d m g r S Vaadi: d Samvaad...        9 am    \n9   S R G P D N S’S’ N D P DG m RGPM G RS Vaadi: D...        6 am    \n17  ‘N r G m M’ m G M’ d N S’S’ Nr’ N d M’m G M’G ...        3 am    \n18       S g m d n S’S’ n d m g S Vaadi: m Samvadi: S       12 am    \n21  S r g M’ d N S’S’ N d P M g r S Vaadi: d Samva...        9 am    \n26       S R g P D S’S’ D P g R S Vaadi: P Samvadi: S       12 am    \n28                           S r G P d S’S’ d P G r S        6 am    \n\n   Perform Upto  \n0           9am  \n1          3 am  \n2          6 am  \n3          9 am  \n4          9 am  \n8         12 pm  \n9          9 am  \n17         6 am  \n18         3 am  \n21        12 pm  \n26         3 am  \n28         9 am  ",
      "text/html": "<div>\n<style scoped>\n    .dataframe tbody tr th:only-of-type {\n        vertical-align: middle;\n    }\n\n    .dataframe tbody tr th {\n        vertical-align: top;\n    }\n\n    .dataframe thead th {\n        text-align: right;\n    }\n</style>\n<table border=\"1\" class=\"dataframe\">\n  <thead>\n    <tr style=\"text-align: right;\">\n      <th></th>\n      <th>Raag Name</th>\n      <th>Thaat</th>\n      <th>Aaroh/Avroh/Vadi/Samvadi</th>\n      <th>Perform From</th>\n      <th>Perform Upto</th>\n    </tr>\n  </thead>\n  <tbody>\n    <tr>\n      <th>0</th>\n      <td>Ahir Bhairav</td>\n      <td>Bhairav</td>\n      <td>S r G m P D n S’S’ n D P m G r S Vaadi: m, Sam...</td>\n      <td>6am</td>\n      <td>9am</td>\n    </tr>\n    <tr>\n      <th>1</th>\n      <td>Bageshri</td>\n      <td>Kafi</td>\n      <td>S g m D n S’S’ n D m m P D m g r S Vaadi: m, S...</td>\n      <td>12 am</td>\n      <td>3 am</td>\n    </tr>\n    <tr>\n      <th>2</th>\n      <td>Basant</td>\n      <td>Purvi</td>\n      <td>S m G M’ d N S’S’ N d P M’ G M’ G r S Vaadi: S...</td>\n      <td>3 am</td>\n      <td>6 am</td>\n    </tr>\n    <tr>\n      <th>3</th>\n      <td>Bhairav</td>\n      <td>Bhairav</td>\n      <td>S r G m P d N S’S’ N d P m G r S Vaadi: d Samv...</td>\n      <td>6 am</td>\n      <td>9 am</td>\n    </tr>\n    <tr>\n      <th>4</th>\n      <td>Bhairavi</td>\n      <td>Bhariavi</td>\n      <td>S r g m P d n S’S’ n d P m g r S Vaadi: m Samv...</td>\n      <td>6 am</td>\n      <td>9 am</td>\n    </tr>\n    <tr>\n      <th>8</th>\n      <td>Bilaskhani Todi</td>\n      <td>Bhairavi</td>\n      <td>S r G P d S’S’ r’ n d m g r S Vaadi: d Samvaad...</td>\n      <td>9 am</td>\n      <td>12 pm</td>\n    </tr>\n    <tr>\n      <th>9</th>\n      <td>Bilawal</td>\n      <td>Bilawal</td>\n      <td>S R G P D N S’S’ N D P DG m RGPM G RS Vaadi: D...</td>\n      <td>6 am</td>\n      <td>9 am</td>\n    </tr>\n    <tr>\n      <th>17</th>\n      <td>Lalit</td>\n      <td>Purvi</td>\n      <td>‘N r G m M’ m G M’ d N S’S’ Nr’ N d M’m G M’G ...</td>\n      <td>3 am</td>\n      <td>6 am</td>\n    </tr>\n    <tr>\n      <th>18</th>\n      <td>Malkauns</td>\n      <td>Bhairavi</td>\n      <td>S g m d n S’S’ n d m g S Vaadi: m Samvadi: S</td>\n      <td>12 am</td>\n      <td>3 am</td>\n    </tr>\n    <tr>\n      <th>21</th>\n      <td>Miyan ki Todi</td>\n      <td>Todi</td>\n      <td>S r g M’ d N S’S’ N d P M g r S Vaadi: d Samva...</td>\n      <td>9 am</td>\n      <td>12 pm</td>\n    </tr>\n    <tr>\n      <th>26</th>\n      <td>Shivranjani</td>\n      <td>Kafi</td>\n      <td>S R g P D S’S’ D P g R S Vaadi: P Samvadi: S</td>\n      <td>12 am</td>\n      <td>3 am</td>\n    </tr>\n    <tr>\n      <th>28</th>\n      <td>Vibhas</td>\n      <td>Bhairav</td>\n      <td>S r G P d S’S’ d P G r S</td>\n      <td>6 am</td>\n      <td>9 am</td>\n    </tr>\n  </tbody>\n</table>\n</div>"
     },
     "metadata": {},
     "execution_count": 55
    }
   ],
   "source": [
    "morning_raagas = raagas[raagas['Perform From'].str.contains(\"am\")]\n",
    "morning_raagas = raagas[raagas['Perform From'].str.contains(\"am\")]\n",
    "morning_raagas"
   ]
  },
  {
   "cell_type": "markdown",
   "metadata": {},
   "source": [
    "And a summary of the morning ragas. Let's transpose the rows to colums this time."
   ]
  },
  {
   "cell_type": "code",
   "execution_count": 56,
   "metadata": {},
   "outputs": [
    {
     "output_type": "execute_result",
     "data": {
      "text/plain": "                         count unique  \\\nRaag Name                   12     12   \nThaat                       12      7   \nAaroh/Avroh/Vadi/Samvadi    12     12   \nPerform From                12      5   \nPerform Upto                12      6   \n\n                                                                   top freq  \nRaag Name                                                      Bhairav    1  \nThaat                                                          Bhairav    3  \nAaroh/Avroh/Vadi/Samvadi  S g m d n S’S’ n d m g S Vaadi: m Samvadi: S    1  \nPerform From                                                     6 am     4  \nPerform Upto                                                      3 am    3  ",
      "text/html": "<div>\n<style scoped>\n    .dataframe tbody tr th:only-of-type {\n        vertical-align: middle;\n    }\n\n    .dataframe tbody tr th {\n        vertical-align: top;\n    }\n\n    .dataframe thead th {\n        text-align: right;\n    }\n</style>\n<table border=\"1\" class=\"dataframe\">\n  <thead>\n    <tr style=\"text-align: right;\">\n      <th></th>\n      <th>count</th>\n      <th>unique</th>\n      <th>top</th>\n      <th>freq</th>\n    </tr>\n  </thead>\n  <tbody>\n    <tr>\n      <th>Raag Name</th>\n      <td>12</td>\n      <td>12</td>\n      <td>Bhairav</td>\n      <td>1</td>\n    </tr>\n    <tr>\n      <th>Thaat</th>\n      <td>12</td>\n      <td>7</td>\n      <td>Bhairav</td>\n      <td>3</td>\n    </tr>\n    <tr>\n      <th>Aaroh/Avroh/Vadi/Samvadi</th>\n      <td>12</td>\n      <td>12</td>\n      <td>S g m d n S’S’ n d m g S Vaadi: m Samvadi: S</td>\n      <td>1</td>\n    </tr>\n    <tr>\n      <th>Perform From</th>\n      <td>12</td>\n      <td>5</td>\n      <td>6 am</td>\n      <td>4</td>\n    </tr>\n    <tr>\n      <th>Perform Upto</th>\n      <td>12</td>\n      <td>6</td>\n      <td>3 am</td>\n      <td>3</td>\n    </tr>\n  </tbody>\n</table>\n</div>"
     },
     "metadata": {},
     "execution_count": 56
    }
   ],
   "source": [
    "morning_raagas.describe().transpose()"
   ]
  },
  {
   "cell_type": "markdown",
   "metadata": {},
   "source": [
    "Let's view all the column details in the ragas DataFrame"
   ]
  },
  {
   "cell_type": "code",
   "execution_count": 57,
   "metadata": {
    "tags": []
   },
   "outputs": [
    {
     "output_type": "stream",
     "name": "stdout",
     "text": "<class 'pandas.core.frame.DataFrame'>\nRangeIndex: 30 entries, 0 to 29\nData columns (total 5 columns):\n #   Column                    Non-Null Count  Dtype \n---  ------                    --------------  ----- \n 0   Raag Name                 30 non-null     object\n 1   Thaat                     30 non-null     object\n 2   Aaroh/Avroh/Vadi/Samvadi  30 non-null     object\n 3   Perform From              30 non-null     object\n 4   Perform Upto              29 non-null     object\ndtypes: object(5)\nmemory usage: 1.3+ KB\n"
    }
   ],
   "source": [
    "raagas.info()"
   ]
  },
  {
   "cell_type": "markdown",
   "metadata": {},
   "source": [
    "Lets look for morning raagas that are played at 6 AM\n",
    "\n",
    "![Select specefic rows](https://pandas.pydata.org/pandas-docs/stable/_images/03_subset_columns_rows1.svg)"
   ]
  },
  {
   "cell_type": "code",
   "execution_count": 58,
   "metadata": {},
   "outputs": [
    {
     "output_type": "execute_result",
     "data": {
      "text/plain": "0     Ahir Bhairav\n3          Bhairav\n4         Bhairavi\n9          Bilawal\n28          Vibhas\nName: Raag Name, dtype: object"
     },
     "metadata": {},
     "execution_count": 58
    }
   ],
   "source": [
    "morning_raagas.loc[morning_raagas[\"Perform From\"].str.contains('6'),\"Raag Name\"]"
   ]
  },
  {
   "cell_type": "markdown",
   "metadata": {},
   "source": [
    "What are the common Thaat in the evening and morning raag?"
   ]
  },
  {
   "cell_type": "code",
   "execution_count": 59,
   "metadata": {},
   "outputs": [
    {
     "output_type": "execute_result",
     "data": {
      "text/plain": "['Bilawal', 'Kafi']"
     },
     "metadata": {},
     "execution_count": 59
    }
   ],
   "source": [
    "list(set(evening_raagas[\"Thaat\"]) & set(morning_raagas[\"Thaat\"]))\n"
   ]
  },
  {
   "cell_type": "markdown",
   "metadata": {},
   "source": [
    "**HOMEWORK 1**\n",
    "\n",
    "We still have too much information packed in the column \"Aaroh/Avroh/Vadi/Samvadi\". \n",
    "\n",
    "As your homework move Vadi and Samvadi to their own columns and paste your results in your assignments notebook"
   ]
  },
  {
   "cell_type": "code",
   "execution_count": null,
   "metadata": {},
   "outputs": [],
   "source": []
  },
  {
   "cell_type": "markdown",
   "metadata": {},
   "source": []
  },
  {
   "cell_type": "markdown",
   "metadata": {},
   "source": [
    "**HOMEWORK2**\n",
    "\n",
    "Identify data that you want to analyse from the web, a csv, or excel. \n",
    "\n",
    "Create a Jupyter Notebook that pulls and analyses the data"
   ]
  },
  {
   "cell_type": "code",
   "execution_count": null,
   "metadata": {},
   "outputs": [],
   "source": []
  }
 ],
 "metadata": {
  "language_info": {
   "codemirror_mode": {
    "name": "ipython",
    "version": 3
   },
   "file_extension": ".py",
   "mimetype": "text/x-python",
   "name": "python",
   "nbconvert_exporter": "python",
   "pygments_lexer": "ipython3",
   "version": "3.7.6-final"
  },
  "orig_nbformat": 2,
  "kernelspec": {
   "name": "python3",
   "display_name": "Python 3"
  }
 },
 "nbformat": 4,
 "nbformat_minor": 2
}